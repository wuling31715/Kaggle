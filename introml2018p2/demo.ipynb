{
 "cells": [
  {
   "cell_type": "code",
   "execution_count": 1,
   "metadata": {
    "collapsed": true
   },
   "outputs": [],
   "source": [
    "%matplotlib inline\n",
    "import matplotlib.pyplot as plt\n",
    "import numpy as np\n",
    "import pandas as pd\n",
    "import csv"
   ]
  },
  {
   "cell_type": "code",
   "execution_count": 2,
   "metadata": {
    "collapsed": true
   },
   "outputs": [],
   "source": [
    "train_data = pd.read_csv('/Users/dannyshau/.kaggle/competitions/introml2018p2/introML2018.task2.train.csv')"
   ]
  },
  {
   "cell_type": "code",
   "execution_count": 3,
   "metadata": {
    "collapsed": true
   },
   "outputs": [],
   "source": [
    "test_data = pd.read_csv('/Users/dannyshau/.kaggle/competitions/introml2018p2/introML2018.task2.test.csv')"
   ]
  },
  {
   "cell_type": "code",
   "execution_count": 4,
   "metadata": {
    "collapsed": true
   },
   "outputs": [],
   "source": [
    "sample_data = pd.read_csv('/Users/dannyshau/.kaggle/competitions/introml2018p2/sampleSubmission.csv')"
   ]
  },
  {
   "cell_type": "code",
   "execution_count": 5,
   "metadata": {
    "collapsed": false
   },
   "outputs": [
    {
     "data": {
      "text/html": [
       "<div>\n",
       "<style scoped>\n",
       "    .dataframe tbody tr th:only-of-type {\n",
       "        vertical-align: middle;\n",
       "    }\n",
       "\n",
       "    .dataframe tbody tr th {\n",
       "        vertical-align: top;\n",
       "    }\n",
       "\n",
       "    .dataframe thead th {\n",
       "        text-align: right;\n",
       "    }\n",
       "</style>\n",
       "<table border=\"1\" class=\"dataframe\">\n",
       "  <thead>\n",
       "    <tr style=\"text-align: right;\">\n",
       "      <th></th>\n",
       "      <th>feature_0</th>\n",
       "      <th>feature_1</th>\n",
       "      <th>feature_2</th>\n",
       "      <th>feature_3</th>\n",
       "      <th>feature_4</th>\n",
       "      <th>feature_5</th>\n",
       "      <th>feature_6</th>\n",
       "      <th>feature_7</th>\n",
       "      <th>feature_8</th>\n",
       "      <th>feature_9</th>\n",
       "      <th>...</th>\n",
       "      <th>feature_17</th>\n",
       "      <th>feature_18</th>\n",
       "      <th>feature_19</th>\n",
       "      <th>feature_20</th>\n",
       "      <th>feature_21</th>\n",
       "      <th>feature_22</th>\n",
       "      <th>feature_23</th>\n",
       "      <th>feature_24</th>\n",
       "      <th>feature_25</th>\n",
       "      <th>label</th>\n",
       "    </tr>\n",
       "  </thead>\n",
       "  <tbody>\n",
       "    <tr>\n",
       "      <th>0</th>\n",
       "      <td>0.02386</td>\n",
       "      <td>0.82456</td>\n",
       "      <td>0.08113</td>\n",
       "      <td>1.13770</td>\n",
       "      <td>1.77629</td>\n",
       "      <td>0.48093</td>\n",
       "      <td>0.41941</td>\n",
       "      <td>2.00234</td>\n",
       "      <td>0.13464</td>\n",
       "      <td>0.10167</td>\n",
       "      <td>...</td>\n",
       "      <td>0.09632</td>\n",
       "      <td>0.29012</td>\n",
       "      <td>0.40304</td>\n",
       "      <td>0.27507</td>\n",
       "      <td>0.99323</td>\n",
       "      <td>0.85539</td>\n",
       "      <td>0.17412</td>\n",
       "      <td>0.16466</td>\n",
       "      <td>0.61362</td>\n",
       "      <td>0</td>\n",
       "    </tr>\n",
       "    <tr>\n",
       "      <th>1</th>\n",
       "      <td>0.60689</td>\n",
       "      <td>1.16695</td>\n",
       "      <td>0.71949</td>\n",
       "      <td>1.68549</td>\n",
       "      <td>1.93553</td>\n",
       "      <td>0.38855</td>\n",
       "      <td>0.42093</td>\n",
       "      <td>0.86326</td>\n",
       "      <td>0.05582</td>\n",
       "      <td>0.59490</td>\n",
       "      <td>...</td>\n",
       "      <td>0.10907</td>\n",
       "      <td>1.05918</td>\n",
       "      <td>0.66094</td>\n",
       "      <td>0.51118</td>\n",
       "      <td>0.07403</td>\n",
       "      <td>0.35904</td>\n",
       "      <td>1.22513</td>\n",
       "      <td>0.70050</td>\n",
       "      <td>0.57503</td>\n",
       "      <td>0</td>\n",
       "    </tr>\n",
       "    <tr>\n",
       "      <th>2</th>\n",
       "      <td>1.04418</td>\n",
       "      <td>1.96377</td>\n",
       "      <td>1.50347</td>\n",
       "      <td>0.64550</td>\n",
       "      <td>1.53785</td>\n",
       "      <td>0.00733</td>\n",
       "      <td>0.27813</td>\n",
       "      <td>0.52037</td>\n",
       "      <td>0.09712</td>\n",
       "      <td>0.06665</td>\n",
       "      <td>...</td>\n",
       "      <td>0.31087</td>\n",
       "      <td>1.27301</td>\n",
       "      <td>0.91902</td>\n",
       "      <td>0.61441</td>\n",
       "      <td>1.37005</td>\n",
       "      <td>0.98416</td>\n",
       "      <td>0.55757</td>\n",
       "      <td>1.15857</td>\n",
       "      <td>0.58404</td>\n",
       "      <td>0</td>\n",
       "    </tr>\n",
       "    <tr>\n",
       "      <th>3</th>\n",
       "      <td>0.93917</td>\n",
       "      <td>0.92883</td>\n",
       "      <td>1.20529</td>\n",
       "      <td>0.78370</td>\n",
       "      <td>1.85672</td>\n",
       "      <td>0.22691</td>\n",
       "      <td>0.61386</td>\n",
       "      <td>0.87615</td>\n",
       "      <td>0.12961</td>\n",
       "      <td>0.48326</td>\n",
       "      <td>...</td>\n",
       "      <td>0.08783</td>\n",
       "      <td>0.08064</td>\n",
       "      <td>0.63653</td>\n",
       "      <td>0.08340</td>\n",
       "      <td>0.70515</td>\n",
       "      <td>0.49470</td>\n",
       "      <td>1.14227</td>\n",
       "      <td>1.05842</td>\n",
       "      <td>0.41538</td>\n",
       "      <td>0</td>\n",
       "    </tr>\n",
       "    <tr>\n",
       "      <th>4</th>\n",
       "      <td>1.98728</td>\n",
       "      <td>0.23203</td>\n",
       "      <td>1.73746</td>\n",
       "      <td>1.81776</td>\n",
       "      <td>0.72044</td>\n",
       "      <td>0.41764</td>\n",
       "      <td>0.35106</td>\n",
       "      <td>1.35815</td>\n",
       "      <td>0.15380</td>\n",
       "      <td>0.77933</td>\n",
       "      <td>...</td>\n",
       "      <td>0.20881</td>\n",
       "      <td>1.36343</td>\n",
       "      <td>0.22559</td>\n",
       "      <td>0.16740</td>\n",
       "      <td>0.15397</td>\n",
       "      <td>0.80919</td>\n",
       "      <td>0.70656</td>\n",
       "      <td>0.10634</td>\n",
       "      <td>0.53938</td>\n",
       "      <td>0</td>\n",
       "    </tr>\n",
       "  </tbody>\n",
       "</table>\n",
       "<p>5 rows × 27 columns</p>\n",
       "</div>"
      ],
      "text/plain": [
       "   feature_0  feature_1  feature_2  feature_3  feature_4  feature_5  \\\n",
       "0    0.02386    0.82456    0.08113    1.13770    1.77629    0.48093   \n",
       "1    0.60689    1.16695    0.71949    1.68549    1.93553    0.38855   \n",
       "2    1.04418    1.96377    1.50347    0.64550    1.53785    0.00733   \n",
       "3    0.93917    0.92883    1.20529    0.78370    1.85672    0.22691   \n",
       "4    1.98728    0.23203    1.73746    1.81776    0.72044    0.41764   \n",
       "\n",
       "   feature_6  feature_7  feature_8  feature_9  ...    feature_17  feature_18  \\\n",
       "0    0.41941    2.00234    0.13464    0.10167  ...       0.09632     0.29012   \n",
       "1    0.42093    0.86326    0.05582    0.59490  ...       0.10907     1.05918   \n",
       "2    0.27813    0.52037    0.09712    0.06665  ...       0.31087     1.27301   \n",
       "3    0.61386    0.87615    0.12961    0.48326  ...       0.08783     0.08064   \n",
       "4    0.35106    1.35815    0.15380    0.77933  ...       0.20881     1.36343   \n",
       "\n",
       "   feature_19  feature_20  feature_21  feature_22  feature_23  feature_24  \\\n",
       "0     0.40304     0.27507     0.99323     0.85539     0.17412     0.16466   \n",
       "1     0.66094     0.51118     0.07403     0.35904     1.22513     0.70050   \n",
       "2     0.91902     0.61441     1.37005     0.98416     0.55757     1.15857   \n",
       "3     0.63653     0.08340     0.70515     0.49470     1.14227     1.05842   \n",
       "4     0.22559     0.16740     0.15397     0.80919     0.70656     0.10634   \n",
       "\n",
       "   feature_25  label  \n",
       "0     0.61362      0  \n",
       "1     0.57503      0  \n",
       "2     0.58404      0  \n",
       "3     0.41538      0  \n",
       "4     0.53938      0  \n",
       "\n",
       "[5 rows x 27 columns]"
      ]
     },
     "execution_count": 5,
     "metadata": {},
     "output_type": "execute_result"
    }
   ],
   "source": [
    "train_data.head()"
   ]
  },
  {
   "cell_type": "code",
   "execution_count": 6,
   "metadata": {
    "collapsed": false
   },
   "outputs": [
    {
     "data": {
      "text/html": [
       "<div>\n",
       "<style scoped>\n",
       "    .dataframe tbody tr th:only-of-type {\n",
       "        vertical-align: middle;\n",
       "    }\n",
       "\n",
       "    .dataframe tbody tr th {\n",
       "        vertical-align: top;\n",
       "    }\n",
       "\n",
       "    .dataframe thead th {\n",
       "        text-align: right;\n",
       "    }\n",
       "</style>\n",
       "<table border=\"1\" class=\"dataframe\">\n",
       "  <thead>\n",
       "    <tr style=\"text-align: right;\">\n",
       "      <th></th>\n",
       "      <th>feature_0</th>\n",
       "      <th>feature_1</th>\n",
       "      <th>feature_2</th>\n",
       "      <th>feature_3</th>\n",
       "      <th>feature_4</th>\n",
       "      <th>feature_5</th>\n",
       "      <th>feature_6</th>\n",
       "      <th>feature_7</th>\n",
       "      <th>feature_8</th>\n",
       "      <th>feature_9</th>\n",
       "      <th>...</th>\n",
       "      <th>feature_17</th>\n",
       "      <th>feature_18</th>\n",
       "      <th>feature_19</th>\n",
       "      <th>feature_20</th>\n",
       "      <th>feature_21</th>\n",
       "      <th>feature_22</th>\n",
       "      <th>feature_23</th>\n",
       "      <th>feature_24</th>\n",
       "      <th>feature_25</th>\n",
       "      <th>label</th>\n",
       "    </tr>\n",
       "  </thead>\n",
       "  <tbody>\n",
       "    <tr>\n",
       "      <th>count</th>\n",
       "      <td>4.000000e+06</td>\n",
       "      <td>4.000000e+06</td>\n",
       "      <td>4.000000e+06</td>\n",
       "      <td>4.000000e+06</td>\n",
       "      <td>4.000000e+06</td>\n",
       "      <td>4.000000e+06</td>\n",
       "      <td>4.000000e+06</td>\n",
       "      <td>4.000000e+06</td>\n",
       "      <td>4.000000e+06</td>\n",
       "      <td>4.000000e+06</td>\n",
       "      <td>...</td>\n",
       "      <td>4.000000e+06</td>\n",
       "      <td>4.000000e+06</td>\n",
       "      <td>4.000000e+06</td>\n",
       "      <td>4.000000e+06</td>\n",
       "      <td>4.000000e+06</td>\n",
       "      <td>4.000000e+06</td>\n",
       "      <td>4.000000e+06</td>\n",
       "      <td>4.000000e+06</td>\n",
       "      <td>4.000000e+06</td>\n",
       "      <td>4.000000e+06</td>\n",
       "    </tr>\n",
       "    <tr>\n",
       "      <th>mean</th>\n",
       "      <td>9.998887e-01</td>\n",
       "      <td>1.000103e+00</td>\n",
       "      <td>1.000169e+00</td>\n",
       "      <td>9.997087e-01</td>\n",
       "      <td>1.000705e+00</td>\n",
       "      <td>5.388051e-01</td>\n",
       "      <td>5.254977e-01</td>\n",
       "      <td>5.287605e-01</td>\n",
       "      <td>5.193667e-01</td>\n",
       "      <td>5.151161e-01</td>\n",
       "      <td>...</td>\n",
       "      <td>5.390382e-01</td>\n",
       "      <td>5.132777e-01</td>\n",
       "      <td>5.192905e-01</td>\n",
       "      <td>5.315256e-01</td>\n",
       "      <td>5.364249e-01</td>\n",
       "      <td>5.311811e-01</td>\n",
       "      <td>5.229958e-01</td>\n",
       "      <td>5.201064e-01</td>\n",
       "      <td>5.273125e-01</td>\n",
       "      <td>2.000000e+00</td>\n",
       "    </tr>\n",
       "    <tr>\n",
       "      <th>std</th>\n",
       "      <td>5.775428e-01</td>\n",
       "      <td>5.772153e-01</td>\n",
       "      <td>5.772686e-01</td>\n",
       "      <td>5.773273e-01</td>\n",
       "      <td>5.773856e-01</td>\n",
       "      <td>4.591625e-01</td>\n",
       "      <td>4.436575e-01</td>\n",
       "      <td>4.460048e-01</td>\n",
       "      <td>4.427414e-01</td>\n",
       "      <td>4.414147e-01</td>\n",
       "      <td>...</td>\n",
       "      <td>4.570189e-01</td>\n",
       "      <td>4.396200e-01</td>\n",
       "      <td>4.478347e-01</td>\n",
       "      <td>4.553216e-01</td>\n",
       "      <td>4.488108e-01</td>\n",
       "      <td>4.545788e-01</td>\n",
       "      <td>4.473243e-01</td>\n",
       "      <td>4.458803e-01</td>\n",
       "      <td>9.385347e-02</td>\n",
       "      <td>1.414214e+00</td>\n",
       "    </tr>\n",
       "    <tr>\n",
       "      <th>min</th>\n",
       "      <td>0.000000e+00</td>\n",
       "      <td>0.000000e+00</td>\n",
       "      <td>0.000000e+00</td>\n",
       "      <td>0.000000e+00</td>\n",
       "      <td>0.000000e+00</td>\n",
       "      <td>0.000000e+00</td>\n",
       "      <td>0.000000e+00</td>\n",
       "      <td>0.000000e+00</td>\n",
       "      <td>0.000000e+00</td>\n",
       "      <td>0.000000e+00</td>\n",
       "      <td>...</td>\n",
       "      <td>0.000000e+00</td>\n",
       "      <td>0.000000e+00</td>\n",
       "      <td>0.000000e+00</td>\n",
       "      <td>0.000000e+00</td>\n",
       "      <td>0.000000e+00</td>\n",
       "      <td>0.000000e+00</td>\n",
       "      <td>0.000000e+00</td>\n",
       "      <td>0.000000e+00</td>\n",
       "      <td>1.597900e-01</td>\n",
       "      <td>0.000000e+00</td>\n",
       "    </tr>\n",
       "    <tr>\n",
       "      <th>25%</th>\n",
       "      <td>4.996900e-01</td>\n",
       "      <td>5.007300e-01</td>\n",
       "      <td>5.004100e-01</td>\n",
       "      <td>4.994800e-01</td>\n",
       "      <td>5.006500e-01</td>\n",
       "      <td>1.608900e-01</td>\n",
       "      <td>1.593200e-01</td>\n",
       "      <td>1.622000e-01</td>\n",
       "      <td>1.573800e-01</td>\n",
       "      <td>1.563800e-01</td>\n",
       "      <td>...</td>\n",
       "      <td>1.623800e-01</td>\n",
       "      <td>1.519100e-01</td>\n",
       "      <td>1.538300e-01</td>\n",
       "      <td>1.570000e-01</td>\n",
       "      <td>1.673600e-01</td>\n",
       "      <td>1.607200e-01</td>\n",
       "      <td>1.576800e-01</td>\n",
       "      <td>1.567100e-01</td>\n",
       "      <td>4.624200e-01</td>\n",
       "      <td>1.000000e+00</td>\n",
       "    </tr>\n",
       "    <tr>\n",
       "      <th>50%</th>\n",
       "      <td>9.996000e-01</td>\n",
       "      <td>9.998600e-01</td>\n",
       "      <td>9.999600e-01</td>\n",
       "      <td>9.994800e-01</td>\n",
       "      <td>1.001040e+00</td>\n",
       "      <td>4.112300e-01</td>\n",
       "      <td>4.104800e-01</td>\n",
       "      <td>4.124500e-01</td>\n",
       "      <td>3.978300e-01</td>\n",
       "      <td>3.912000e-01</td>\n",
       "      <td>...</td>\n",
       "      <td>4.132900e-01</td>\n",
       "      <td>3.935300e-01</td>\n",
       "      <td>3.962200e-01</td>\n",
       "      <td>4.063300e-01</td>\n",
       "      <td>4.167700e-01</td>\n",
       "      <td>4.043900e-01</td>\n",
       "      <td>3.994200e-01</td>\n",
       "      <td>3.957000e-01</td>\n",
       "      <td>5.239200e-01</td>\n",
       "      <td>2.000000e+00</td>\n",
       "    </tr>\n",
       "    <tr>\n",
       "      <th>75%</th>\n",
       "      <td>1.500190e+00</td>\n",
       "      <td>1.499890e+00</td>\n",
       "      <td>1.500300e+00</td>\n",
       "      <td>1.499280e+00</td>\n",
       "      <td>1.501030e+00</td>\n",
       "      <td>8.174100e-01</td>\n",
       "      <td>7.897200e-01</td>\n",
       "      <td>7.910400e-01</td>\n",
       "      <td>7.814700e-01</td>\n",
       "      <td>7.749400e-01</td>\n",
       "      <td>...</td>\n",
       "      <td>8.196600e-01</td>\n",
       "      <td>7.757900e-01</td>\n",
       "      <td>7.772900e-01</td>\n",
       "      <td>8.043800e-01</td>\n",
       "      <td>8.099100e-01</td>\n",
       "      <td>7.984400e-01</td>\n",
       "      <td>7.861900e-01</td>\n",
       "      <td>7.822000e-01</td>\n",
       "      <td>5.887900e-01</td>\n",
       "      <td>3.000000e+00</td>\n",
       "    </tr>\n",
       "    <tr>\n",
       "      <th>max</th>\n",
       "      <td>2.000000e+00</td>\n",
       "      <td>2.000000e+00</td>\n",
       "      <td>2.000000e+00</td>\n",
       "      <td>2.000000e+00</td>\n",
       "      <td>2.000000e+00</td>\n",
       "      <td>3.427280e+00</td>\n",
       "      <td>3.806810e+00</td>\n",
       "      <td>3.546030e+00</td>\n",
       "      <td>3.235460e+00</td>\n",
       "      <td>3.416340e+00</td>\n",
       "      <td>...</td>\n",
       "      <td>3.571850e+00</td>\n",
       "      <td>3.526640e+00</td>\n",
       "      <td>3.346200e+00</td>\n",
       "      <td>3.404590e+00</td>\n",
       "      <td>3.548560e+00</td>\n",
       "      <td>4.120560e+00</td>\n",
       "      <td>3.597060e+00</td>\n",
       "      <td>3.839600e+00</td>\n",
       "      <td>1.048960e+00</td>\n",
       "      <td>4.000000e+00</td>\n",
       "    </tr>\n",
       "  </tbody>\n",
       "</table>\n",
       "<p>8 rows × 27 columns</p>\n",
       "</div>"
      ],
      "text/plain": [
       "          feature_0     feature_1     feature_2     feature_3     feature_4  \\\n",
       "count  4.000000e+06  4.000000e+06  4.000000e+06  4.000000e+06  4.000000e+06   \n",
       "mean   9.998887e-01  1.000103e+00  1.000169e+00  9.997087e-01  1.000705e+00   \n",
       "std    5.775428e-01  5.772153e-01  5.772686e-01  5.773273e-01  5.773856e-01   \n",
       "min    0.000000e+00  0.000000e+00  0.000000e+00  0.000000e+00  0.000000e+00   \n",
       "25%    4.996900e-01  5.007300e-01  5.004100e-01  4.994800e-01  5.006500e-01   \n",
       "50%    9.996000e-01  9.998600e-01  9.999600e-01  9.994800e-01  1.001040e+00   \n",
       "75%    1.500190e+00  1.499890e+00  1.500300e+00  1.499280e+00  1.501030e+00   \n",
       "max    2.000000e+00  2.000000e+00  2.000000e+00  2.000000e+00  2.000000e+00   \n",
       "\n",
       "          feature_5     feature_6     feature_7     feature_8     feature_9  \\\n",
       "count  4.000000e+06  4.000000e+06  4.000000e+06  4.000000e+06  4.000000e+06   \n",
       "mean   5.388051e-01  5.254977e-01  5.287605e-01  5.193667e-01  5.151161e-01   \n",
       "std    4.591625e-01  4.436575e-01  4.460048e-01  4.427414e-01  4.414147e-01   \n",
       "min    0.000000e+00  0.000000e+00  0.000000e+00  0.000000e+00  0.000000e+00   \n",
       "25%    1.608900e-01  1.593200e-01  1.622000e-01  1.573800e-01  1.563800e-01   \n",
       "50%    4.112300e-01  4.104800e-01  4.124500e-01  3.978300e-01  3.912000e-01   \n",
       "75%    8.174100e-01  7.897200e-01  7.910400e-01  7.814700e-01  7.749400e-01   \n",
       "max    3.427280e+00  3.806810e+00  3.546030e+00  3.235460e+00  3.416340e+00   \n",
       "\n",
       "           ...         feature_17    feature_18    feature_19    feature_20  \\\n",
       "count      ...       4.000000e+06  4.000000e+06  4.000000e+06  4.000000e+06   \n",
       "mean       ...       5.390382e-01  5.132777e-01  5.192905e-01  5.315256e-01   \n",
       "std        ...       4.570189e-01  4.396200e-01  4.478347e-01  4.553216e-01   \n",
       "min        ...       0.000000e+00  0.000000e+00  0.000000e+00  0.000000e+00   \n",
       "25%        ...       1.623800e-01  1.519100e-01  1.538300e-01  1.570000e-01   \n",
       "50%        ...       4.132900e-01  3.935300e-01  3.962200e-01  4.063300e-01   \n",
       "75%        ...       8.196600e-01  7.757900e-01  7.772900e-01  8.043800e-01   \n",
       "max        ...       3.571850e+00  3.526640e+00  3.346200e+00  3.404590e+00   \n",
       "\n",
       "         feature_21    feature_22    feature_23    feature_24    feature_25  \\\n",
       "count  4.000000e+06  4.000000e+06  4.000000e+06  4.000000e+06  4.000000e+06   \n",
       "mean   5.364249e-01  5.311811e-01  5.229958e-01  5.201064e-01  5.273125e-01   \n",
       "std    4.488108e-01  4.545788e-01  4.473243e-01  4.458803e-01  9.385347e-02   \n",
       "min    0.000000e+00  0.000000e+00  0.000000e+00  0.000000e+00  1.597900e-01   \n",
       "25%    1.673600e-01  1.607200e-01  1.576800e-01  1.567100e-01  4.624200e-01   \n",
       "50%    4.167700e-01  4.043900e-01  3.994200e-01  3.957000e-01  5.239200e-01   \n",
       "75%    8.099100e-01  7.984400e-01  7.861900e-01  7.822000e-01  5.887900e-01   \n",
       "max    3.548560e+00  4.120560e+00  3.597060e+00  3.839600e+00  1.048960e+00   \n",
       "\n",
       "              label  \n",
       "count  4.000000e+06  \n",
       "mean   2.000000e+00  \n",
       "std    1.414214e+00  \n",
       "min    0.000000e+00  \n",
       "25%    1.000000e+00  \n",
       "50%    2.000000e+00  \n",
       "75%    3.000000e+00  \n",
       "max    4.000000e+00  \n",
       "\n",
       "[8 rows x 27 columns]"
      ]
     },
     "execution_count": 6,
     "metadata": {},
     "output_type": "execute_result"
    }
   ],
   "source": [
    "train_data.describe()"
   ]
  },
  {
   "cell_type": "code",
   "execution_count": 7,
   "metadata": {
    "collapsed": false
   },
   "outputs": [
    {
     "data": {
      "text/html": [
       "<div>\n",
       "<style scoped>\n",
       "    .dataframe tbody tr th:only-of-type {\n",
       "        vertical-align: middle;\n",
       "    }\n",
       "\n",
       "    .dataframe tbody tr th {\n",
       "        vertical-align: top;\n",
       "    }\n",
       "\n",
       "    .dataframe thead th {\n",
       "        text-align: right;\n",
       "    }\n",
       "</style>\n",
       "<table border=\"1\" class=\"dataframe\">\n",
       "  <thead>\n",
       "    <tr style=\"text-align: right;\">\n",
       "      <th></th>\n",
       "      <th>feature_0</th>\n",
       "      <th>feature_1</th>\n",
       "      <th>feature_2</th>\n",
       "      <th>feature_3</th>\n",
       "      <th>feature_4</th>\n",
       "      <th>feature_5</th>\n",
       "      <th>feature_6</th>\n",
       "      <th>feature_7</th>\n",
       "      <th>feature_8</th>\n",
       "      <th>feature_9</th>\n",
       "      <th>...</th>\n",
       "      <th>feature_16</th>\n",
       "      <th>feature_17</th>\n",
       "      <th>feature_18</th>\n",
       "      <th>feature_19</th>\n",
       "      <th>feature_20</th>\n",
       "      <th>feature_21</th>\n",
       "      <th>feature_22</th>\n",
       "      <th>feature_23</th>\n",
       "      <th>feature_24</th>\n",
       "      <th>feature_25</th>\n",
       "    </tr>\n",
       "  </thead>\n",
       "  <tbody>\n",
       "    <tr>\n",
       "      <th>0</th>\n",
       "      <td>2.00000</td>\n",
       "      <td>1.06442</td>\n",
       "      <td>0.77321</td>\n",
       "      <td>1.16849</td>\n",
       "      <td>1.87359</td>\n",
       "      <td>1.13544</td>\n",
       "      <td>0.09184</td>\n",
       "      <td>0.45756</td>\n",
       "      <td>0.10005</td>\n",
       "      <td>2.29653</td>\n",
       "      <td>...</td>\n",
       "      <td>0.55389</td>\n",
       "      <td>0.13160</td>\n",
       "      <td>0.10331</td>\n",
       "      <td>0.48096</td>\n",
       "      <td>0.03414</td>\n",
       "      <td>0.50214</td>\n",
       "      <td>0.30140</td>\n",
       "      <td>0.22790</td>\n",
       "      <td>0.06455</td>\n",
       "      <td>0.31927</td>\n",
       "    </tr>\n",
       "    <tr>\n",
       "      <th>1</th>\n",
       "      <td>1.99999</td>\n",
       "      <td>1.20259</td>\n",
       "      <td>0.60255</td>\n",
       "      <td>0.27883</td>\n",
       "      <td>0.84276</td>\n",
       "      <td>1.17993</td>\n",
       "      <td>0.34912</td>\n",
       "      <td>1.24920</td>\n",
       "      <td>0.43843</td>\n",
       "      <td>0.41878</td>\n",
       "      <td>...</td>\n",
       "      <td>0.21055</td>\n",
       "      <td>0.23612</td>\n",
       "      <td>0.86681</td>\n",
       "      <td>0.85502</td>\n",
       "      <td>1.53058</td>\n",
       "      <td>0.22975</td>\n",
       "      <td>0.77923</td>\n",
       "      <td>0.21157</td>\n",
       "      <td>1.40290</td>\n",
       "      <td>0.63286</td>\n",
       "    </tr>\n",
       "    <tr>\n",
       "      <th>2</th>\n",
       "      <td>1.99999</td>\n",
       "      <td>1.94842</td>\n",
       "      <td>0.79279</td>\n",
       "      <td>1.14537</td>\n",
       "      <td>1.80051</td>\n",
       "      <td>0.18936</td>\n",
       "      <td>0.96881</td>\n",
       "      <td>0.23519</td>\n",
       "      <td>0.06599</td>\n",
       "      <td>0.18601</td>\n",
       "      <td>...</td>\n",
       "      <td>0.14093</td>\n",
       "      <td>0.26216</td>\n",
       "      <td>0.34096</td>\n",
       "      <td>0.21466</td>\n",
       "      <td>1.00160</td>\n",
       "      <td>0.03101</td>\n",
       "      <td>0.48096</td>\n",
       "      <td>0.31223</td>\n",
       "      <td>0.99971</td>\n",
       "      <td>0.40536</td>\n",
       "    </tr>\n",
       "    <tr>\n",
       "      <th>3</th>\n",
       "      <td>1.99999</td>\n",
       "      <td>1.33511</td>\n",
       "      <td>0.67608</td>\n",
       "      <td>1.29383</td>\n",
       "      <td>1.36955</td>\n",
       "      <td>0.70924</td>\n",
       "      <td>0.40953</td>\n",
       "      <td>0.08048</td>\n",
       "      <td>1.37038</td>\n",
       "      <td>0.16269</td>\n",
       "      <td>...</td>\n",
       "      <td>0.88953</td>\n",
       "      <td>0.29615</td>\n",
       "      <td>0.21003</td>\n",
       "      <td>0.70640</td>\n",
       "      <td>1.77972</td>\n",
       "      <td>0.40377</td>\n",
       "      <td>0.39024</td>\n",
       "      <td>0.63554</td>\n",
       "      <td>0.16779</td>\n",
       "      <td>0.53755</td>\n",
       "    </tr>\n",
       "    <tr>\n",
       "      <th>4</th>\n",
       "      <td>1.99999</td>\n",
       "      <td>1.27513</td>\n",
       "      <td>0.18669</td>\n",
       "      <td>1.11853</td>\n",
       "      <td>1.26307</td>\n",
       "      <td>0.05703</td>\n",
       "      <td>0.45338</td>\n",
       "      <td>0.48660</td>\n",
       "      <td>0.40169</td>\n",
       "      <td>0.15021</td>\n",
       "      <td>...</td>\n",
       "      <td>1.26752</td>\n",
       "      <td>0.10595</td>\n",
       "      <td>0.09888</td>\n",
       "      <td>0.36467</td>\n",
       "      <td>1.15981</td>\n",
       "      <td>0.04779</td>\n",
       "      <td>0.55197</td>\n",
       "      <td>0.99329</td>\n",
       "      <td>0.44994</td>\n",
       "      <td>0.48311</td>\n",
       "    </tr>\n",
       "  </tbody>\n",
       "</table>\n",
       "<p>5 rows × 26 columns</p>\n",
       "</div>"
      ],
      "text/plain": [
       "   feature_0  feature_1  feature_2  feature_3  feature_4  feature_5  \\\n",
       "0    2.00000    1.06442    0.77321    1.16849    1.87359    1.13544   \n",
       "1    1.99999    1.20259    0.60255    0.27883    0.84276    1.17993   \n",
       "2    1.99999    1.94842    0.79279    1.14537    1.80051    0.18936   \n",
       "3    1.99999    1.33511    0.67608    1.29383    1.36955    0.70924   \n",
       "4    1.99999    1.27513    0.18669    1.11853    1.26307    0.05703   \n",
       "\n",
       "   feature_6  feature_7  feature_8  feature_9     ...      feature_16  \\\n",
       "0    0.09184    0.45756    0.10005    2.29653     ...         0.55389   \n",
       "1    0.34912    1.24920    0.43843    0.41878     ...         0.21055   \n",
       "2    0.96881    0.23519    0.06599    0.18601     ...         0.14093   \n",
       "3    0.40953    0.08048    1.37038    0.16269     ...         0.88953   \n",
       "4    0.45338    0.48660    0.40169    0.15021     ...         1.26752   \n",
       "\n",
       "   feature_17  feature_18  feature_19  feature_20  feature_21  feature_22  \\\n",
       "0     0.13160     0.10331     0.48096     0.03414     0.50214     0.30140   \n",
       "1     0.23612     0.86681     0.85502     1.53058     0.22975     0.77923   \n",
       "2     0.26216     0.34096     0.21466     1.00160     0.03101     0.48096   \n",
       "3     0.29615     0.21003     0.70640     1.77972     0.40377     0.39024   \n",
       "4     0.10595     0.09888     0.36467     1.15981     0.04779     0.55197   \n",
       "\n",
       "   feature_23  feature_24  feature_25  \n",
       "0     0.22790     0.06455     0.31927  \n",
       "1     0.21157     1.40290     0.63286  \n",
       "2     0.31223     0.99971     0.40536  \n",
       "3     0.63554     0.16779     0.53755  \n",
       "4     0.99329     0.44994     0.48311  \n",
       "\n",
       "[5 rows x 26 columns]"
      ]
     },
     "execution_count": 7,
     "metadata": {},
     "output_type": "execute_result"
    }
   ],
   "source": [
    "test_data.head()"
   ]
  },
  {
   "cell_type": "code",
   "execution_count": 33,
   "metadata": {
    "collapsed": false
   },
   "outputs": [
    {
     "name": "stdout",
     "output_type": "stream",
     "text": [
      "(1000000, 26)\n"
     ]
    }
   ],
   "source": [
    "print(test_data.shape)"
   ]
  },
  {
   "cell_type": "code",
   "execution_count": 8,
   "metadata": {
    "collapsed": false
   },
   "outputs": [
    {
     "data": {
      "text/html": [
       "<div>\n",
       "<style scoped>\n",
       "    .dataframe tbody tr th:only-of-type {\n",
       "        vertical-align: middle;\n",
       "    }\n",
       "\n",
       "    .dataframe tbody tr th {\n",
       "        vertical-align: top;\n",
       "    }\n",
       "\n",
       "    .dataframe thead th {\n",
       "        text-align: right;\n",
       "    }\n",
       "</style>\n",
       "<table border=\"1\" class=\"dataframe\">\n",
       "  <thead>\n",
       "    <tr style=\"text-align: right;\">\n",
       "      <th></th>\n",
       "      <th>ID</th>\n",
       "      <th>label</th>\n",
       "    </tr>\n",
       "  </thead>\n",
       "  <tbody>\n",
       "    <tr>\n",
       "      <th>0</th>\n",
       "      <td>1</td>\n",
       "      <td>1</td>\n",
       "    </tr>\n",
       "    <tr>\n",
       "      <th>1</th>\n",
       "      <td>2</td>\n",
       "      <td>2</td>\n",
       "    </tr>\n",
       "    <tr>\n",
       "      <th>2</th>\n",
       "      <td>3</td>\n",
       "      <td>4</td>\n",
       "    </tr>\n",
       "    <tr>\n",
       "      <th>3</th>\n",
       "      <td>4</td>\n",
       "      <td>0</td>\n",
       "    </tr>\n",
       "    <tr>\n",
       "      <th>4</th>\n",
       "      <td>5</td>\n",
       "      <td>3</td>\n",
       "    </tr>\n",
       "  </tbody>\n",
       "</table>\n",
       "</div>"
      ],
      "text/plain": [
       "   ID  label\n",
       "0   1      1\n",
       "1   2      2\n",
       "2   3      4\n",
       "3   4      0\n",
       "4   5      3"
      ]
     },
     "execution_count": 8,
     "metadata": {},
     "output_type": "execute_result"
    }
   ],
   "source": [
    "sample_data.head()"
   ]
  },
  {
   "cell_type": "code",
   "execution_count": 9,
   "metadata": {
    "collapsed": false
   },
   "outputs": [
    {
     "name": "stdout",
     "output_type": "stream",
     "text": [
      "(4000000, 26)\n"
     ]
    }
   ],
   "source": [
    "x_data = train_data.drop('label', axis=1)\n",
    "print(x_data.shape)"
   ]
  },
  {
   "cell_type": "code",
   "execution_count": 10,
   "metadata": {
    "collapsed": false
   },
   "outputs": [
    {
     "name": "stdout",
     "output_type": "stream",
     "text": [
      "(4000000,)\n"
     ]
    }
   ],
   "source": [
    "y_data = train_data['label']\n",
    "print(y_data.shape)"
   ]
  },
  {
   "cell_type": "code",
   "execution_count": 11,
   "metadata": {
    "collapsed": false
   },
   "outputs": [
    {
     "name": "stderr",
     "output_type": "stream",
     "text": [
      "/Users/DannyShau/anaconda/envs/py3.5/lib/python3.5/site-packages/sklearn/cross_validation.py:41: DeprecationWarning: This module was deprecated in version 0.18 in favor of the model_selection module into which all the refactored classes and functions are moved. Also note that the interface of the new CV iterators are different from that of this module. This module will be removed in 0.20.\n",
      "  \"This module will be removed in 0.20.\", DeprecationWarning)\n"
     ]
    }
   ],
   "source": [
    "from sklearn.cross_validation import train_test_split\n",
    "x_train, x_test, y_train, y_test = train_test_split(x_data, y_data)"
   ]
  },
  {
   "cell_type": "code",
   "execution_count": 12,
   "metadata": {
    "collapsed": false
   },
   "outputs": [
    {
     "name": "stdout",
     "output_type": "stream",
     "text": [
      "(3000000, 26)\n",
      "(1000000, 26)\n",
      "(3000000,)\n",
      "(1000000,)\n"
     ]
    }
   ],
   "source": [
    "print(x_train.shape)\n",
    "print(x_test.shape)\n",
    "print(y_train.shape)\n",
    "print(y_test.shape)"
   ]
  },
  {
   "cell_type": "code",
   "execution_count": 25,
   "metadata": {
    "collapsed": true
   },
   "outputs": [],
   "source": [
    "def classification(model):\n",
    "    print(model)\n",
    "    model.fit(x_train, y_train)\n",
    "    print(model.score(x_train, y_train))\n",
    "    y_model = model.predict(x_test)\n",
    "    from sklearn.metrics import accuracy_score\n",
    "    print(accuracy_score(y_test, y_model))\n",
    "    return model"
   ]
  },
  {
   "cell_type": "code",
   "execution_count": 30,
   "metadata": {
    "collapsed": true
   },
   "outputs": [],
   "source": [
    "def predict(model):\n",
    "    print(model)\n",
    "    result = model.predict(test_data)\n",
    "    file_name = 'result.csv'\n",
    "    with open(file_name, 'w', newline='') as csvfile:\n",
    "        fieldnames = ['ID', 'label']\n",
    "        writer = csv.DictWriter(csvfile, fieldnames=fieldnames)\n",
    "        writer.writeheader()\n",
    "        for i, j in enumerate(result):\n",
    "            writer.writerow({'ID': i+1, 'label': j})\n",
    "    return result"
   ]
  },
  {
   "cell_type": "code",
   "execution_count": 31,
   "metadata": {
    "collapsed": false
   },
   "outputs": [
    {
     "name": "stdout",
     "output_type": "stream",
     "text": [
      "GaussianNB(priors=None)\n",
      "0.261821333333\n",
      "0.261286\n",
      "GaussianNB(priors=None)\n"
     ]
    }
   ],
   "source": [
    "from sklearn.naive_bayes import GaussianNB\n",
    "model = classification(GaussianNB())\n",
    "result = predict(model)"
   ]
  },
  {
   "cell_type": "code",
   "execution_count": 32,
   "metadata": {
    "collapsed": false
   },
   "outputs": [
    {
     "name": "stdout",
     "output_type": "stream",
     "text": [
      "(1000000,)\n"
     ]
    }
   ],
   "source": [
    "print(result.shape)"
   ]
  },
  {
   "cell_type": "code",
   "execution_count": 16,
   "metadata": {
    "collapsed": false
   },
   "outputs": [
    {
     "name": "stdout",
     "output_type": "stream",
     "text": [
      "0.260573333333\n",
      "0.260362\n"
     ]
    }
   ],
   "source": [
    "from sklearn.linear_model import LogisticRegression\n",
    "model = classification(LogisticRegression())"
   ]
  },
  {
   "cell_type": "code",
   "execution_count": null,
   "metadata": {
    "collapsed": true
   },
   "outputs": [],
   "source": [
    "from sklearn import svm\n",
    "model = classification(svm.SVC())\n",
    "result = predict(model)\n",
    "print(result.shape)"
   ]
  },
  {
   "cell_type": "code",
   "execution_count": 34,
   "metadata": {
    "collapsed": false
   },
   "outputs": [
    {
     "name": "stdout",
     "output_type": "stream",
     "text": [
      "DecisionTreeClassifier(class_weight=None, criterion='gini', max_depth=None,\n",
      "            max_features=None, max_leaf_nodes=None,\n",
      "            min_impurity_decrease=0.0, min_impurity_split=None,\n",
      "            min_samples_leaf=1, min_samples_split=2,\n",
      "            min_weight_fraction_leaf=0.0, presort=False, random_state=None,\n",
      "            splitter='best')\n",
      "1.0\n",
      "0.422725\n",
      "DecisionTreeClassifier(class_weight=None, criterion='gini', max_depth=None,\n",
      "            max_features=None, max_leaf_nodes=None,\n",
      "            min_impurity_decrease=0.0, min_impurity_split=None,\n",
      "            min_samples_leaf=1, min_samples_split=2,\n",
      "            min_weight_fraction_leaf=0.0, presort=False, random_state=None,\n",
      "            splitter='best')\n",
      "(1000000,)\n"
     ]
    }
   ],
   "source": [
    "from sklearn import tree\n",
    "model = classification(tree.DecisionTreeClassifier())\n",
    "result = predict(model)\n",
    "print(result.shape)"
   ]
  },
  {
   "cell_type": "code",
   "execution_count": 23,
   "metadata": {
    "collapsed": false
   },
   "outputs": [
    {
     "name": "stdout",
     "output_type": "stream",
     "text": [
      "None\n"
     ]
    }
   ],
   "source": []
  },
  {
   "cell_type": "code",
   "execution_count": null,
   "metadata": {
    "collapsed": true
   },
   "outputs": [],
   "source": []
  }
 ],
 "metadata": {
  "kernelspec": {
   "display_name": "Python 3",
   "language": "python",
   "name": "python3"
  },
  "language_info": {
   "codemirror_mode": {
    "name": "ipython",
    "version": 3
   },
   "file_extension": ".py",
   "mimetype": "text/x-python",
   "name": "python",
   "nbconvert_exporter": "python",
   "pygments_lexer": "ipython3",
   "version": "3.5.4"
  }
 },
 "nbformat": 4,
 "nbformat_minor": 2
}
