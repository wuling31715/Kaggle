{
 "cells": [
  {
   "cell_type": "code",
   "execution_count": 4,
   "metadata": {},
   "outputs": [],
   "source": [
    "%matplotlib inline\n",
    "import matplotlib.pyplot as plt\n",
    "import numpy as np\n",
    "import pandas as pd\n",
    "import csv"
   ]
  },
  {
   "cell_type": "code",
   "execution_count": 5,
   "metadata": {},
   "outputs": [],
   "source": [
    "train_data = pd.read_csv('/Users/dannyshau/.kaggle/competitions/introml2018p1/introML2018.task1.train.csv')"
   ]
  },
  {
   "cell_type": "code",
   "execution_count": 6,
   "metadata": {},
   "outputs": [],
   "source": [
    "test_data = pd.read_csv('/Users/dannyshau/.kaggle/competitions/introml2018p1/introML2018.task1.test.csv')"
   ]
  },
  {
   "cell_type": "code",
   "execution_count": 7,
   "metadata": {},
   "outputs": [],
   "source": [
    "sample_data = pd.read_csv('/Users/dannyshau/.kaggle/competitions/introml2018p4/sampleSubmission.csv')"
   ]
  },
  {
   "cell_type": "code",
   "execution_count": 8,
   "metadata": {},
   "outputs": [
    {
     "data": {
      "text/html": [
       "<div>\n",
       "<style scoped>\n",
       "    .dataframe tbody tr th:only-of-type {\n",
       "        vertical-align: middle;\n",
       "    }\n",
       "\n",
       "    .dataframe tbody tr th {\n",
       "        vertical-align: top;\n",
       "    }\n",
       "\n",
       "    .dataframe thead th {\n",
       "        text-align: right;\n",
       "    }\n",
       "</style>\n",
       "<table border=\"1\" class=\"dataframe\">\n",
       "  <thead>\n",
       "    <tr style=\"text-align: right;\">\n",
       "      <th></th>\n",
       "      <th>feature_0</th>\n",
       "      <th>feature_1</th>\n",
       "      <th>feature_2</th>\n",
       "      <th>feature_3</th>\n",
       "      <th>feature_4</th>\n",
       "      <th>feature_5</th>\n",
       "      <th>feature_6</th>\n",
       "      <th>feature_7</th>\n",
       "      <th>feature_8</th>\n",
       "      <th>feature_9</th>\n",
       "      <th>...</th>\n",
       "      <th>feature_13</th>\n",
       "      <th>feature_14</th>\n",
       "      <th>feature_15</th>\n",
       "      <th>feature_16</th>\n",
       "      <th>feature_17</th>\n",
       "      <th>feature_18</th>\n",
       "      <th>feature_19</th>\n",
       "      <th>feature_20</th>\n",
       "      <th>feature_21</th>\n",
       "      <th>label</th>\n",
       "    </tr>\n",
       "  </thead>\n",
       "  <tbody>\n",
       "    <tr>\n",
       "      <th>0</th>\n",
       "      <td>0.26817</td>\n",
       "      <td>1.13045</td>\n",
       "      <td>1.09382</td>\n",
       "      <td>0.85888</td>\n",
       "      <td>0.10089</td>\n",
       "      <td>1.21865</td>\n",
       "      <td>0.01583</td>\n",
       "      <td>2.34323</td>\n",
       "      <td>0.08813</td>\n",
       "      <td>0.49544</td>\n",
       "      <td>...</td>\n",
       "      <td>0.05205</td>\n",
       "      <td>1.58448</td>\n",
       "      <td>2.36328</td>\n",
       "      <td>1.22971</td>\n",
       "      <td>0.55453</td>\n",
       "      <td>0.20241</td>\n",
       "      <td>0.38913</td>\n",
       "      <td>1.45456</td>\n",
       "      <td>0.69864</td>\n",
       "      <td>0</td>\n",
       "    </tr>\n",
       "    <tr>\n",
       "      <th>1</th>\n",
       "      <td>2.45403</td>\n",
       "      <td>0.79397</td>\n",
       "      <td>0.75025</td>\n",
       "      <td>0.22614</td>\n",
       "      <td>0.03272</td>\n",
       "      <td>0.66577</td>\n",
       "      <td>1.39941</td>\n",
       "      <td>1.94778</td>\n",
       "      <td>0.79187</td>\n",
       "      <td>0.25556</td>\n",
       "      <td>...</td>\n",
       "      <td>0.45502</td>\n",
       "      <td>1.40500</td>\n",
       "      <td>0.75559</td>\n",
       "      <td>0.32766</td>\n",
       "      <td>0.74595</td>\n",
       "      <td>0.14747</td>\n",
       "      <td>1.19688</td>\n",
       "      <td>1.38945</td>\n",
       "      <td>0.78612</td>\n",
       "      <td>0</td>\n",
       "    </tr>\n",
       "    <tr>\n",
       "      <th>2</th>\n",
       "      <td>3.96213</td>\n",
       "      <td>0.41346</td>\n",
       "      <td>0.48027</td>\n",
       "      <td>1.00439</td>\n",
       "      <td>0.06023</td>\n",
       "      <td>1.26421</td>\n",
       "      <td>1.99353</td>\n",
       "      <td>0.74035</td>\n",
       "      <td>0.62849</td>\n",
       "      <td>0.31607</td>\n",
       "      <td>...</td>\n",
       "      <td>0.06308</td>\n",
       "      <td>1.25717</td>\n",
       "      <td>2.06412</td>\n",
       "      <td>2.16921</td>\n",
       "      <td>0.10359</td>\n",
       "      <td>0.29410</td>\n",
       "      <td>0.46045</td>\n",
       "      <td>0.73175</td>\n",
       "      <td>0.80820</td>\n",
       "      <td>0</td>\n",
       "    </tr>\n",
       "    <tr>\n",
       "      <th>3</th>\n",
       "      <td>3.32901</td>\n",
       "      <td>0.94426</td>\n",
       "      <td>0.16697</td>\n",
       "      <td>1.11070</td>\n",
       "      <td>0.06276</td>\n",
       "      <td>0.32128</td>\n",
       "      <td>3.04395</td>\n",
       "      <td>1.04180</td>\n",
       "      <td>0.18123</td>\n",
       "      <td>0.41950</td>\n",
       "      <td>...</td>\n",
       "      <td>0.45444</td>\n",
       "      <td>0.91814</td>\n",
       "      <td>0.53543</td>\n",
       "      <td>2.07778</td>\n",
       "      <td>0.19298</td>\n",
       "      <td>0.16019</td>\n",
       "      <td>2.21632</td>\n",
       "      <td>1.10792</td>\n",
       "      <td>0.86372</td>\n",
       "      <td>0</td>\n",
       "    </tr>\n",
       "    <tr>\n",
       "      <th>4</th>\n",
       "      <td>0.14856</td>\n",
       "      <td>0.75493</td>\n",
       "      <td>0.06123</td>\n",
       "      <td>1.64407</td>\n",
       "      <td>0.04401</td>\n",
       "      <td>0.82604</td>\n",
       "      <td>2.24679</td>\n",
       "      <td>2.13183</td>\n",
       "      <td>0.18370</td>\n",
       "      <td>0.20217</td>\n",
       "      <td>...</td>\n",
       "      <td>0.57805</td>\n",
       "      <td>0.51724</td>\n",
       "      <td>1.68297</td>\n",
       "      <td>2.38446</td>\n",
       "      <td>0.73934</td>\n",
       "      <td>0.26868</td>\n",
       "      <td>1.52466</td>\n",
       "      <td>0.29081</td>\n",
       "      <td>0.81992</td>\n",
       "      <td>0</td>\n",
       "    </tr>\n",
       "  </tbody>\n",
       "</table>\n",
       "<p>5 rows × 23 columns</p>\n",
       "</div>"
      ],
      "text/plain": [
       "   feature_0  feature_1  feature_2  feature_3  feature_4  feature_5  \\\n",
       "0    0.26817    1.13045    1.09382    0.85888    0.10089    1.21865   \n",
       "1    2.45403    0.79397    0.75025    0.22614    0.03272    0.66577   \n",
       "2    3.96213    0.41346    0.48027    1.00439    0.06023    1.26421   \n",
       "3    3.32901    0.94426    0.16697    1.11070    0.06276    0.32128   \n",
       "4    0.14856    0.75493    0.06123    1.64407    0.04401    0.82604   \n",
       "\n",
       "   feature_6  feature_7  feature_8  feature_9  ...    feature_13  feature_14  \\\n",
       "0    0.01583    2.34323    0.08813    0.49544  ...       0.05205     1.58448   \n",
       "1    1.39941    1.94778    0.79187    0.25556  ...       0.45502     1.40500   \n",
       "2    1.99353    0.74035    0.62849    0.31607  ...       0.06308     1.25717   \n",
       "3    3.04395    1.04180    0.18123    0.41950  ...       0.45444     0.91814   \n",
       "4    2.24679    2.13183    0.18370    0.20217  ...       0.57805     0.51724   \n",
       "\n",
       "   feature_15  feature_16  feature_17  feature_18  feature_19  feature_20  \\\n",
       "0     2.36328     1.22971     0.55453     0.20241     0.38913     1.45456   \n",
       "1     0.75559     0.32766     0.74595     0.14747     1.19688     1.38945   \n",
       "2     2.06412     2.16921     0.10359     0.29410     0.46045     0.73175   \n",
       "3     0.53543     2.07778     0.19298     0.16019     2.21632     1.10792   \n",
       "4     1.68297     2.38446     0.73934     0.26868     1.52466     0.29081   \n",
       "\n",
       "   feature_21  label  \n",
       "0     0.69864      0  \n",
       "1     0.78612      0  \n",
       "2     0.80820      0  \n",
       "3     0.86372      0  \n",
       "4     0.81992      0  \n",
       "\n",
       "[5 rows x 23 columns]"
      ]
     },
     "execution_count": 8,
     "metadata": {},
     "output_type": "execute_result"
    }
   ],
   "source": [
    "train_data.head()"
   ]
  },
  {
   "cell_type": "code",
   "execution_count": 9,
   "metadata": {},
   "outputs": [
    {
     "data": {
      "text/html": [
       "<div>\n",
       "<style scoped>\n",
       "    .dataframe tbody tr th:only-of-type {\n",
       "        vertical-align: middle;\n",
       "    }\n",
       "\n",
       "    .dataframe tbody tr th {\n",
       "        vertical-align: top;\n",
       "    }\n",
       "\n",
       "    .dataframe thead th {\n",
       "        text-align: right;\n",
       "    }\n",
       "</style>\n",
       "<table border=\"1\" class=\"dataframe\">\n",
       "  <thead>\n",
       "    <tr style=\"text-align: right;\">\n",
       "      <th></th>\n",
       "      <th>feature_0</th>\n",
       "      <th>feature_1</th>\n",
       "      <th>feature_2</th>\n",
       "      <th>feature_3</th>\n",
       "      <th>feature_4</th>\n",
       "      <th>feature_5</th>\n",
       "      <th>feature_6</th>\n",
       "      <th>feature_7</th>\n",
       "      <th>feature_8</th>\n",
       "      <th>feature_9</th>\n",
       "      <th>...</th>\n",
       "      <th>feature_13</th>\n",
       "      <th>feature_14</th>\n",
       "      <th>feature_15</th>\n",
       "      <th>feature_16</th>\n",
       "      <th>feature_17</th>\n",
       "      <th>feature_18</th>\n",
       "      <th>feature_19</th>\n",
       "      <th>feature_20</th>\n",
       "      <th>feature_21</th>\n",
       "      <th>label</th>\n",
       "    </tr>\n",
       "  </thead>\n",
       "  <tbody>\n",
       "    <tr>\n",
       "      <th>count</th>\n",
       "      <td>1.500000e+06</td>\n",
       "      <td>1.500000e+06</td>\n",
       "      <td>1.500000e+06</td>\n",
       "      <td>1.500000e+06</td>\n",
       "      <td>1.500000e+06</td>\n",
       "      <td>1.500000e+06</td>\n",
       "      <td>1.500000e+06</td>\n",
       "      <td>1.500000e+06</td>\n",
       "      <td>1.500000e+06</td>\n",
       "      <td>1.500000e+06</td>\n",
       "      <td>...</td>\n",
       "      <td>1.500000e+06</td>\n",
       "      <td>1.500000e+06</td>\n",
       "      <td>1.500000e+06</td>\n",
       "      <td>1.500000e+06</td>\n",
       "      <td>1.500000e+06</td>\n",
       "      <td>1.500000e+06</td>\n",
       "      <td>1.500000e+06</td>\n",
       "      <td>1.500000e+06</td>\n",
       "      <td>1.500000e+06</td>\n",
       "      <td>1.500000e+06</td>\n",
       "    </tr>\n",
       "    <tr>\n",
       "      <th>mean</th>\n",
       "      <td>2.001702e+00</td>\n",
       "      <td>1.100093e+00</td>\n",
       "      <td>9.000937e-01</td>\n",
       "      <td>9.171091e-01</td>\n",
       "      <td>5.001528e-01</td>\n",
       "      <td>1.166440e+00</td>\n",
       "      <td>1.049625e+00</td>\n",
       "      <td>1.149005e+00</td>\n",
       "      <td>1.133744e+00</td>\n",
       "      <td>9.672538e-01</td>\n",
       "      <td>...</td>\n",
       "      <td>7.825795e-01</td>\n",
       "      <td>9.337172e-01</td>\n",
       "      <td>8.011538e-01</td>\n",
       "      <td>9.826680e-01</td>\n",
       "      <td>9.170682e-01</td>\n",
       "      <td>1.200235e+00</td>\n",
       "      <td>1.017067e+00</td>\n",
       "      <td>1.465143e+00</td>\n",
       "      <td>9.845250e-01</td>\n",
       "      <td>1.000000e+00</td>\n",
       "    </tr>\n",
       "    <tr>\n",
       "      <th>std</th>\n",
       "      <td>1.154306e+00</td>\n",
       "      <td>6.569550e-01</td>\n",
       "      <td>5.621802e-01</td>\n",
       "      <td>8.274564e-01</td>\n",
       "      <td>4.819829e-01</td>\n",
       "      <td>7.952274e-01</td>\n",
       "      <td>9.708558e-01</td>\n",
       "      <td>1.042751e+00</td>\n",
       "      <td>8.679536e-01</td>\n",
       "      <td>8.753788e-01</td>\n",
       "      <td>...</td>\n",
       "      <td>5.731306e-01</td>\n",
       "      <td>5.713130e-01</td>\n",
       "      <td>6.883541e-01</td>\n",
       "      <td>8.457430e-01</td>\n",
       "      <td>8.974447e-01</td>\n",
       "      <td>1.104195e+00</td>\n",
       "      <td>8.059932e-01</td>\n",
       "      <td>9.574591e-01</td>\n",
       "      <td>1.413400e-01</td>\n",
       "      <td>8.164969e-01</td>\n",
       "    </tr>\n",
       "    <tr>\n",
       "      <th>min</th>\n",
       "      <td>0.000000e+00</td>\n",
       "      <td>0.000000e+00</td>\n",
       "      <td>1.000000e-05</td>\n",
       "      <td>0.000000e+00</td>\n",
       "      <td>0.000000e+00</td>\n",
       "      <td>0.000000e+00</td>\n",
       "      <td>0.000000e+00</td>\n",
       "      <td>0.000000e+00</td>\n",
       "      <td>0.000000e+00</td>\n",
       "      <td>0.000000e+00</td>\n",
       "      <td>...</td>\n",
       "      <td>0.000000e+00</td>\n",
       "      <td>0.000000e+00</td>\n",
       "      <td>0.000000e+00</td>\n",
       "      <td>0.000000e+00</td>\n",
       "      <td>0.000000e+00</td>\n",
       "      <td>0.000000e+00</td>\n",
       "      <td>0.000000e+00</td>\n",
       "      <td>0.000000e+00</td>\n",
       "      <td>4.327400e-01</td>\n",
       "      <td>0.000000e+00</td>\n",
       "    </tr>\n",
       "    <tr>\n",
       "      <th>25%</th>\n",
       "      <td>1.002420e+00</td>\n",
       "      <td>5.535800e-01</td>\n",
       "      <td>4.426700e-01</td>\n",
       "      <td>2.643700e-01</td>\n",
       "      <td>6.507000e-02</td>\n",
       "      <td>5.198300e-01</td>\n",
       "      <td>2.337200e-01</td>\n",
       "      <td>2.839300e-01</td>\n",
       "      <td>4.250300e-01</td>\n",
       "      <td>3.256100e-01</td>\n",
       "      <td>...</td>\n",
       "      <td>3.144500e-01</td>\n",
       "      <td>4.612700e-01</td>\n",
       "      <td>2.205700e-01</td>\n",
       "      <td>2.735400e-01</td>\n",
       "      <td>3.134600e-01</td>\n",
       "      <td>1.907900e-01</td>\n",
       "      <td>3.495900e-01</td>\n",
       "      <td>6.960800e-01</td>\n",
       "      <td>8.888200e-01</td>\n",
       "      <td>0.000000e+00</td>\n",
       "    </tr>\n",
       "    <tr>\n",
       "      <th>50%</th>\n",
       "      <td>2.003160e+00</td>\n",
       "      <td>1.077870e+00</td>\n",
       "      <td>8.618200e-01</td>\n",
       "      <td>5.943400e-01</td>\n",
       "      <td>3.607600e-01</td>\n",
       "      <td>1.010370e+00</td>\n",
       "      <td>7.178400e-01</td>\n",
       "      <td>7.804250e-01</td>\n",
       "      <td>8.412900e-01</td>\n",
       "      <td>6.417900e-01</td>\n",
       "      <td>...</td>\n",
       "      <td>6.145200e-01</td>\n",
       "      <td>8.980800e-01</td>\n",
       "      <td>5.553900e-01</td>\n",
       "      <td>6.770300e-01</td>\n",
       "      <td>6.083200e-01</td>\n",
       "      <td>8.833000e-01</td>\n",
       "      <td>7.205700e-01</td>\n",
       "      <td>1.354060e+00</td>\n",
       "      <td>9.924800e-01</td>\n",
       "      <td>1.000000e+00</td>\n",
       "    </tr>\n",
       "    <tr>\n",
       "      <th>75%</th>\n",
       "      <td>3.001262e+00</td>\n",
       "      <td>1.588180e+00</td>\n",
       "      <td>1.275150e+00</td>\n",
       "      <td>1.417990e+00</td>\n",
       "      <td>8.669600e-01</td>\n",
       "      <td>1.760153e+00</td>\n",
       "      <td>1.727420e+00</td>\n",
       "      <td>1.872240e+00</td>\n",
       "      <td>1.808512e+00</td>\n",
       "      <td>1.352500e+00</td>\n",
       "      <td>...</td>\n",
       "      <td>1.231940e+00</td>\n",
       "      <td>1.344280e+00</td>\n",
       "      <td>1.333030e+00</td>\n",
       "      <td>1.626190e+00</td>\n",
       "      <td>1.073160e+00</td>\n",
       "      <td>2.125760e+00</td>\n",
       "      <td>1.657433e+00</td>\n",
       "      <td>2.079400e+00</td>\n",
       "      <td>1.084840e+00</td>\n",
       "      <td>2.000000e+00</td>\n",
       "    </tr>\n",
       "    <tr>\n",
       "      <th>max</th>\n",
       "      <td>4.000000e+00</td>\n",
       "      <td>4.254170e+00</td>\n",
       "      <td>4.503730e+00</td>\n",
       "      <td>5.594800e+00</td>\n",
       "      <td>3.667460e+00</td>\n",
       "      <td>5.161740e+00</td>\n",
       "      <td>6.968300e+00</td>\n",
       "      <td>6.916090e+00</td>\n",
       "      <td>5.672750e+00</td>\n",
       "      <td>6.095550e+00</td>\n",
       "      <td>...</td>\n",
       "      <td>4.032860e+00</td>\n",
       "      <td>4.122220e+00</td>\n",
       "      <td>4.280270e+00</td>\n",
       "      <td>5.567950e+00</td>\n",
       "      <td>6.317840e+00</td>\n",
       "      <td>6.796290e+00</td>\n",
       "      <td>5.377540e+00</td>\n",
       "      <td>7.244970e+00</td>\n",
       "      <td>1.572580e+00</td>\n",
       "      <td>2.000000e+00</td>\n",
       "    </tr>\n",
       "  </tbody>\n",
       "</table>\n",
       "<p>8 rows × 23 columns</p>\n",
       "</div>"
      ],
      "text/plain": [
       "          feature_0     feature_1     feature_2     feature_3     feature_4  \\\n",
       "count  1.500000e+06  1.500000e+06  1.500000e+06  1.500000e+06  1.500000e+06   \n",
       "mean   2.001702e+00  1.100093e+00  9.000937e-01  9.171091e-01  5.001528e-01   \n",
       "std    1.154306e+00  6.569550e-01  5.621802e-01  8.274564e-01  4.819829e-01   \n",
       "min    0.000000e+00  0.000000e+00  1.000000e-05  0.000000e+00  0.000000e+00   \n",
       "25%    1.002420e+00  5.535800e-01  4.426700e-01  2.643700e-01  6.507000e-02   \n",
       "50%    2.003160e+00  1.077870e+00  8.618200e-01  5.943400e-01  3.607600e-01   \n",
       "75%    3.001262e+00  1.588180e+00  1.275150e+00  1.417990e+00  8.669600e-01   \n",
       "max    4.000000e+00  4.254170e+00  4.503730e+00  5.594800e+00  3.667460e+00   \n",
       "\n",
       "          feature_5     feature_6     feature_7     feature_8     feature_9  \\\n",
       "count  1.500000e+06  1.500000e+06  1.500000e+06  1.500000e+06  1.500000e+06   \n",
       "mean   1.166440e+00  1.049625e+00  1.149005e+00  1.133744e+00  9.672538e-01   \n",
       "std    7.952274e-01  9.708558e-01  1.042751e+00  8.679536e-01  8.753788e-01   \n",
       "min    0.000000e+00  0.000000e+00  0.000000e+00  0.000000e+00  0.000000e+00   \n",
       "25%    5.198300e-01  2.337200e-01  2.839300e-01  4.250300e-01  3.256100e-01   \n",
       "50%    1.010370e+00  7.178400e-01  7.804250e-01  8.412900e-01  6.417900e-01   \n",
       "75%    1.760153e+00  1.727420e+00  1.872240e+00  1.808512e+00  1.352500e+00   \n",
       "max    5.161740e+00  6.968300e+00  6.916090e+00  5.672750e+00  6.095550e+00   \n",
       "\n",
       "           ...         feature_13    feature_14    feature_15    feature_16  \\\n",
       "count      ...       1.500000e+06  1.500000e+06  1.500000e+06  1.500000e+06   \n",
       "mean       ...       7.825795e-01  9.337172e-01  8.011538e-01  9.826680e-01   \n",
       "std        ...       5.731306e-01  5.713130e-01  6.883541e-01  8.457430e-01   \n",
       "min        ...       0.000000e+00  0.000000e+00  0.000000e+00  0.000000e+00   \n",
       "25%        ...       3.144500e-01  4.612700e-01  2.205700e-01  2.735400e-01   \n",
       "50%        ...       6.145200e-01  8.980800e-01  5.553900e-01  6.770300e-01   \n",
       "75%        ...       1.231940e+00  1.344280e+00  1.333030e+00  1.626190e+00   \n",
       "max        ...       4.032860e+00  4.122220e+00  4.280270e+00  5.567950e+00   \n",
       "\n",
       "         feature_17    feature_18    feature_19    feature_20    feature_21  \\\n",
       "count  1.500000e+06  1.500000e+06  1.500000e+06  1.500000e+06  1.500000e+06   \n",
       "mean   9.170682e-01  1.200235e+00  1.017067e+00  1.465143e+00  9.845250e-01   \n",
       "std    8.974447e-01  1.104195e+00  8.059932e-01  9.574591e-01  1.413400e-01   \n",
       "min    0.000000e+00  0.000000e+00  0.000000e+00  0.000000e+00  4.327400e-01   \n",
       "25%    3.134600e-01  1.907900e-01  3.495900e-01  6.960800e-01  8.888200e-01   \n",
       "50%    6.083200e-01  8.833000e-01  7.205700e-01  1.354060e+00  9.924800e-01   \n",
       "75%    1.073160e+00  2.125760e+00  1.657433e+00  2.079400e+00  1.084840e+00   \n",
       "max    6.317840e+00  6.796290e+00  5.377540e+00  7.244970e+00  1.572580e+00   \n",
       "\n",
       "              label  \n",
       "count  1.500000e+06  \n",
       "mean   1.000000e+00  \n",
       "std    8.164969e-01  \n",
       "min    0.000000e+00  \n",
       "25%    0.000000e+00  \n",
       "50%    1.000000e+00  \n",
       "75%    2.000000e+00  \n",
       "max    2.000000e+00  \n",
       "\n",
       "[8 rows x 23 columns]"
      ]
     },
     "execution_count": 9,
     "metadata": {},
     "output_type": "execute_result"
    }
   ],
   "source": [
    "train_data.describe()"
   ]
  },
  {
   "cell_type": "code",
   "execution_count": 10,
   "metadata": {},
   "outputs": [
    {
     "name": "stdout",
     "output_type": "stream",
     "text": [
      "(1500000, 22)\n",
      "(1500000,)\n"
     ]
    }
   ],
   "source": [
    "x_data = train_data.drop('label', axis=1)\n",
    "y_data = train_data['label']\n",
    "print(x_data.shape)\n",
    "print(y_data.shape)"
   ]
  },
  {
   "cell_type": "code",
   "execution_count": 11,
   "metadata": {},
   "outputs": [
    {
     "name": "stdout",
     "output_type": "stream",
     "text": [
      "(1125000, 22)\n",
      "(375000, 22)\n",
      "(1125000,)\n",
      "(375000,)\n"
     ]
    }
   ],
   "source": [
    "from sklearn.model_selection import train_test_split\n",
    "x_train, x_test, y_train, y_test = train_test_split(x_data, y_data)\n",
    "print(x_train.shape)\n",
    "print(x_test.shape)\n",
    "print(y_train.shape)\n",
    "print(y_test.shape)"
   ]
  },
  {
   "cell_type": "code",
   "execution_count": 12,
   "metadata": {},
   "outputs": [],
   "source": [
    "def classification(model):\n",
    "    print(model)\n",
    "    model.fit(x_train, y_train)\n",
    "    print(model.score(x_train, y_train))\n",
    "    y_model = model.predict(x_test)\n",
    "    from sklearn.metrics import accuracy_score\n",
    "    print(accuracy_score(y_test, y_model))\n",
    "    return model"
   ]
  },
  {
   "cell_type": "code",
   "execution_count": 13,
   "metadata": {},
   "outputs": [],
   "source": [
    "def predict(model):\n",
    "    result = model.predict(test_data)\n",
    "    file_name = 'result.csv'\n",
    "    with open(file_name, 'w', newline='') as csvfile:\n",
    "        fieldnames = ['ID', 'label']\n",
    "        writer = csv.DictWriter(csvfile, fieldnames=fieldnames)\n",
    "        writer.writeheader()\n",
    "        for i, j in enumerate(result):\n",
    "            writer.writerow({'ID': i+1, 'label': j})\n",
    "    return result"
   ]
  },
  {
   "cell_type": "code",
   "execution_count": null,
   "metadata": {},
   "outputs": [
    {
     "name": "stdout",
     "output_type": "stream",
     "text": [
      "KNeighborsClassifier(algorithm='auto', leaf_size=30, metric='minkowski',\n",
      "           metric_params=None, n_jobs=1, n_neighbors=5, p=2,\n",
      "           weights='uniform')\n"
     ]
    }
   ],
   "source": [
    "%%time\n",
    "from sklearn.neighbors import KNeighborsClassifier\n",
    "model = classification(KNeighborsClassifier())\n",
    "result = predict(model)"
   ]
  },
  {
   "cell_type": "code",
   "execution_count": 12,
   "metadata": {},
   "outputs": [
    {
     "name": "stdout",
     "output_type": "stream",
     "text": [
      "DecisionTreeClassifier(class_weight=None, criterion='gini', max_depth=None,\n",
      "            max_features=None, max_leaf_nodes=None,\n",
      "            min_impurity_decrease=0.0, min_impurity_split=None,\n",
      "            min_samples_leaf=1, min_samples_split=2,\n",
      "            min_weight_fraction_leaf=0.0, presort=False, random_state=None,\n",
      "            splitter='best')\n",
      "1.0\n",
      "0.999458666667\n"
     ]
    }
   ],
   "source": [
    "from sklearn import tree\n",
    "model = classification(tree.DecisionTreeClassifier())\n",
    "result = predict(model)"
   ]
  },
  {
   "cell_type": "code",
   "execution_count": 14,
   "metadata": {},
   "outputs": [
    {
     "name": "stdout",
     "output_type": "stream",
     "text": [
      "GaussianNB(priors=None)\n",
      "0.9998817777777778\n",
      "0.9999093333333333\n",
      "CPU times: user 3.53 s, sys: 1.19 s, total: 4.72 s\n",
      "Wall time: 4.88 s\n"
     ]
    }
   ],
   "source": [
    "%%time\n",
    "from sklearn.naive_bayes import GaussianNB\n",
    "model = classification(GaussianNB())\n",
    "result = predict(model)"
   ]
  },
  {
   "cell_type": "code",
   "execution_count": 14,
   "metadata": {},
   "outputs": [
    {
     "name": "stdout",
     "output_type": "stream",
     "text": [
      "LogisticRegression(C=1.0, class_weight=None, dual=False, fit_intercept=True,\n",
      "          intercept_scaling=1, max_iter=100, multi_class='ovr', n_jobs=1,\n",
      "          penalty='l2', random_state=None, solver='liblinear', tol=0.0001,\n",
      "          verbose=0, warm_start=False)\n",
      "0.999856888889\n",
      "0.999826666667\n"
     ]
    }
   ],
   "source": [
    "from sklearn.linear_model import LogisticRegression\n",
    "model = classification(LogisticRegression())\n",
    "result = predict(model)"
   ]
  },
  {
   "cell_type": "code",
   "execution_count": 15,
   "metadata": {},
   "outputs": [
    {
     "name": "stdout",
     "output_type": "stream",
     "text": [
      "SVC(C=1.0, cache_size=200, class_weight=None, coef0=0.0,\n",
      "  decision_function_shape='ovr', degree=3, gamma='auto', kernel='rbf',\n",
      "  max_iter=-1, probability=False, random_state=None, shrinking=True,\n",
      "  tol=0.001, verbose=False)\n",
      "0.999913777778\n",
      "0.999928\n"
     ]
    }
   ],
   "source": [
    "from sklearn import svm\n",
    "model = classification(svm.SVC())\n",
    "result = predict(model)"
   ]
  },
  {
   "cell_type": "code",
   "execution_count": 13,
   "metadata": {},
   "outputs": [
    {
     "name": "stdout",
     "output_type": "stream",
     "text": [
      "MLPClassifier(activation='relu', alpha=0.0001, batch_size='auto', beta_1=0.9,\n",
      "       beta_2=0.999, early_stopping=False, epsilon=1e-08,\n",
      "       hidden_layer_sizes=(100,), learning_rate='constant',\n",
      "       learning_rate_init=0.001, max_iter=200, momentum=0.9,\n",
      "       nesterovs_momentum=True, power_t=0.5, random_state=None,\n",
      "       shuffle=True, solver='adam', tol=0.0001, validation_fraction=0.1,\n",
      "       verbose=False, warm_start=False)\n",
      "0.999877333333\n",
      "0.999869333333\n"
     ]
    }
   ],
   "source": [
    "from sklearn.neural_network import MLPClassifier\n",
    "model = classification(MLPClassifier())\n",
    "result = predict(model)"
   ]
  },
  {
   "cell_type": "code",
   "execution_count": 18,
   "metadata": {},
   "outputs": [
    {
     "name": "stdout",
     "output_type": "stream",
     "text": [
      "RandomForestClassifier(bootstrap=True, class_weight=None, criterion='gini',\n",
      "            max_depth=None, max_features='auto', max_leaf_nodes=None,\n",
      "            min_impurity_decrease=0.0, min_impurity_split=None,\n",
      "            min_samples_leaf=1, min_samples_split=2,\n",
      "            min_weight_fraction_leaf=0.0, n_estimators=1000, n_jobs=1,\n",
      "            oob_score=False, random_state=None, verbose=0,\n",
      "            warm_start=False)\n",
      "1.0\n",
      "0.999938666667\n"
     ]
    }
   ],
   "source": [
    "from sklearn.ensemble import RandomForestClassifier\n",
    "model = classification(RandomForestClassifier(n_estimators=1000))\n",
    "result = predict(model)"
   ]
  },
  {
   "cell_type": "code",
   "execution_count": null,
   "metadata": {},
   "outputs": [
    {
     "name": "stdout",
     "output_type": "stream",
     "text": [
      "AdaBoostClassifier(algorithm='SAMME.R', base_estimator=None,\n",
      "          learning_rate=1.0, n_estimators=50, random_state=None)\n",
      "0.999210666667\n",
      "0.999178666667\n"
     ]
    }
   ],
   "source": [
    "from sklearn.ensemble import AdaBoostClassifier\n",
    "model = classification(AdaBoostClassifier())\n",
    "result = predict(model)"
   ]
  },
  {
   "cell_type": "code",
   "execution_count": null,
   "metadata": {},
   "outputs": [
    {
     "name": "stdout",
     "output_type": "stream",
     "text": [
      "GradientBoostingClassifier(criterion='friedman_mse', init=None,\n",
      "              learning_rate=0.1, loss='deviance', max_depth=3,\n",
      "              max_features=None, max_leaf_nodes=None,\n",
      "              min_impurity_decrease=0.0, min_impurity_split=None,\n",
      "              min_samples_leaf=1, min_samples_split=2,\n",
      "              min_weight_fraction_leaf=0.0, n_estimators=100,\n",
      "              presort='auto', random_state=None, subsample=1.0, verbose=0,\n",
      "              warm_start=False)\n"
     ]
    }
   ],
   "source": [
    "from sklearn.ensemble import GradientBoostingClassifier\n",
    "model = classification(GradientBoostingClassifier())\n",
    "result = predict(model)"
   ]
  },
  {
   "cell_type": "code",
   "execution_count": 11,
   "metadata": {},
   "outputs": [
    {
     "name": "stdout",
     "output_type": "stream",
     "text": [
      "XGBClassifier(base_score=0.5, booster='gbtree', colsample_bylevel=1,\n",
      "       colsample_bytree=1, gamma=0, learning_rate=0.1, max_delta_step=0,\n",
      "       max_depth=3, min_child_weight=1, missing=None, n_estimators=1000,\n",
      "       n_jobs=1, nthread=None, objective='binary:logistic', random_state=0,\n",
      "       reg_alpha=0, reg_lambda=1, scale_pos_weight=1, seed=None,\n",
      "       silent=True, subsample=1)\n"
     ]
    },
    {
     "name": "stderr",
     "output_type": "stream",
     "text": [
      "/Users/DannyShau/anaconda/envs/py3.5/lib/python3.5/site-packages/sklearn/preprocessing/label.py:151: DeprecationWarning: The truth value of an empty array is ambiguous. Returning False, but in future this will result in an error. Use `array.size > 0` to check that an array is not empty.\n",
      "  if diff:\n"
     ]
    },
    {
     "name": "stdout",
     "output_type": "stream",
     "text": [
      "1.0\n"
     ]
    },
    {
     "name": "stderr",
     "output_type": "stream",
     "text": [
      "/Users/DannyShau/anaconda/envs/py3.5/lib/python3.5/site-packages/sklearn/preprocessing/label.py:151: DeprecationWarning: The truth value of an empty array is ambiguous. Returning False, but in future this will result in an error. Use `array.size > 0` to check that an array is not empty.\n",
      "  if diff:\n"
     ]
    },
    {
     "name": "stdout",
     "output_type": "stream",
     "text": [
      "0.9999706666666667\n"
     ]
    },
    {
     "name": "stderr",
     "output_type": "stream",
     "text": [
      "/Users/DannyShau/anaconda/envs/py3.5/lib/python3.5/site-packages/sklearn/preprocessing/label.py:151: DeprecationWarning: The truth value of an empty array is ambiguous. Returning False, but in future this will result in an error. Use `array.size > 0` to check that an array is not empty.\n",
      "  if diff:\n"
     ]
    }
   ],
   "source": [
    "from xgboost import XGBClassifier\n",
    "model = classification(XGBClassifier(n_estimators=1000))\n",
    "result = predict(model)"
   ]
  },
  {
   "cell_type": "code",
   "execution_count": null,
   "metadata": {},
   "outputs": [],
   "source": []
  }
 ],
 "metadata": {
  "kernelspec": {
   "display_name": "Python 3",
   "language": "python",
   "name": "python3"
  },
  "language_info": {
   "codemirror_mode": {
    "name": "ipython",
    "version": 3
   },
   "file_extension": ".py",
   "mimetype": "text/x-python",
   "name": "python",
   "nbconvert_exporter": "python",
   "pygments_lexer": "ipython3",
   "version": "3.5.4"
  }
 },
 "nbformat": 4,
 "nbformat_minor": 2
}
