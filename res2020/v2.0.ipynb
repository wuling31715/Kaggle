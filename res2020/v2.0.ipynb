{
 "cells": [
  {
   "cell_type": "code",
   "execution_count": 1,
   "metadata": {},
   "outputs": [],
   "source": [
    "import pandas as pd\n",
    "import numpy as np"
   ]
  },
  {
   "cell_type": "markdown",
   "metadata": {},
   "source": [
    "# 1. Load data"
   ]
  },
  {
   "cell_type": "code",
   "execution_count": 2,
   "metadata": {},
   "outputs": [],
   "source": [
    "train = pd.read_csv('train_data.csv')\n",
    "# train"
   ]
  },
  {
   "cell_type": "code",
   "execution_count": 3,
   "metadata": {},
   "outputs": [],
   "source": [
    "test = pd.read_csv('test_data.csv')\n",
    "# test"
   ]
  },
  {
   "cell_type": "code",
   "execution_count": 4,
   "metadata": {},
   "outputs": [],
   "source": [
    "valid = pd.read_csv('validation_data.csv')\n",
    "# valid[valid['rating'] == 1]"
   ]
  },
  {
   "cell_type": "code",
   "execution_count": 5,
   "metadata": {},
   "outputs": [],
   "source": [
    "item = pd.read_csv('item_fea.csv')\n",
    "# item"
   ]
  },
  {
   "cell_type": "code",
   "execution_count": 6,
   "metadata": {},
   "outputs": [],
   "source": [
    "user = pd.read_csv('user_fea.csv')\n",
    "# user"
   ]
  },
  {
   "cell_type": "code",
   "execution_count": 7,
   "metadata": {},
   "outputs": [],
   "source": [
    "link = pd.read_csv('links.csv')\n",
    "# link"
   ]
  },
  {
   "cell_type": "code",
   "execution_count": 8,
   "metadata": {},
   "outputs": [],
   "source": [
    "sample = pd.read_csv('sample_solution_data.csv')\n",
    "# sample"
   ]
  },
  {
   "cell_type": "markdown",
   "metadata": {},
   "source": [
    "# 2. Cluster items"
   ]
  },
  {
   "cell_type": "code",
   "execution_count": 9,
   "metadata": {},
   "outputs": [],
   "source": [
    "from sklearn.cluster import KMeans\n",
    "kmeans = KMeans(n_clusters=200, random_state=0).fit(item)\n",
    "item_cluster = kmeans.labels_\n",
    "# item_cluster"
   ]
  },
  {
   "cell_type": "markdown",
   "metadata": {},
   "source": [
    "# 2. Cluster users"
   ]
  },
  {
   "cell_type": "code",
   "execution_count": 10,
   "metadata": {},
   "outputs": [],
   "source": [
    "from sklearn.cluster import KMeans\n",
    "kmeans = KMeans(n_clusters=10, random_state=0).fit(user)\n",
    "user_cluster = kmeans.labels_\n",
    "# user_cluster"
   ]
  },
  {
   "cell_type": "markdown",
   "metadata": {},
   "source": [
    "# 3. Weight items"
   ]
  },
  {
   "cell_type": "code",
   "execution_count": 11,
   "metadata": {},
   "outputs": [
    {
     "data": {
      "text/plain": [
       "{8: 1000, 151: 1000, 101: 1000, 186: 1000, 49: 300}"
      ]
     },
     "execution_count": 11,
     "metadata": {},
     "output_type": "execute_result"
    }
   ],
   "source": [
    "item_dict = dict()\n",
    "for i in train[train['user_id'] == 0]['item_id']:\n",
    "    if item_cluster[i] in item_dict:            \n",
    "        item_dict[item_cluster[i]] += 100\n",
    "    else:\n",
    "        item_dict[item_cluster[i]] = 100\n",
    "item_dict"
   ]
  },
  {
   "cell_type": "markdown",
   "metadata": {},
   "source": [
    "# 4. Link other users"
   ]
  },
  {
   "cell_type": "code",
   "execution_count": 12,
   "metadata": {},
   "outputs": [],
   "source": [
    "link_list = list()\n",
    "for i in link[link['src'] == 0]['des']:\n",
    "    link_list.append(i)\n",
    "# link_list"
   ]
  },
  {
   "cell_type": "markdown",
   "metadata": {},
   "source": [
    "# 5. Weight items"
   ]
  },
  {
   "cell_type": "code",
   "execution_count": 13,
   "metadata": {},
   "outputs": [
    {
     "data": {
      "text/plain": [
       "{8: 1005,\n",
       " 151: 1018,\n",
       " 101: 1018,\n",
       " 186: 1007,\n",
       " 49: 384,\n",
       " 124: 4,\n",
       " 120: 6,\n",
       " 79: 11,\n",
       " 159: 11,\n",
       " 4: 6,\n",
       " 68: 15,\n",
       " 139: 33,\n",
       " 75: 18,\n",
       " 103: 18,\n",
       " 168: 26,\n",
       " 178: 12,\n",
       " 52: 18,\n",
       " 180: 18,\n",
       " 39: 17,\n",
       " 86: 13,\n",
       " 153: 12,\n",
       " 55: 23,\n",
       " 108: 16,\n",
       " 87: 12,\n",
       " 41: 19,\n",
       " 2: 17,\n",
       " 133: 5,\n",
       " 194: 2,\n",
       " 106: 13,\n",
       " 166: 8,\n",
       " 48: 5,\n",
       " 77: 9,\n",
       " 192: 4,\n",
       " 32: 7,\n",
       " 94: 4,\n",
       " 99: 9,\n",
       " 20: 5,\n",
       " 72: 4,\n",
       " 105: 15,\n",
       " 155: 8,\n",
       " 12: 4,\n",
       " 110: 119,\n",
       " 116: 2,\n",
       " 128: 5,\n",
       " 7: 7,\n",
       " 71: 3,\n",
       " 182: 9,\n",
       " 5: 6,\n",
       " 62: 8,\n",
       " 29: 14,\n",
       " 100: 5,\n",
       " 42: 2,\n",
       " 131: 7,\n",
       " 113: 8,\n",
       " 14: 6,\n",
       " 34: 4,\n",
       " 91: 6,\n",
       " 67: 9,\n",
       " 123: 4,\n",
       " 109: 137,\n",
       " 137: 6,\n",
       " 90: 9,\n",
       " 16: 15,\n",
       " 69: 8,\n",
       " 114: 3,\n",
       " 1: 11,\n",
       " 181: 86,\n",
       " 121: 6,\n",
       " 167: 11,\n",
       " 138: 7,\n",
       " 164: 5,\n",
       " 150: 9,\n",
       " 176: 7,\n",
       " 53: 4,\n",
       " 117: 7,\n",
       " 163: 6,\n",
       " 170: 2,\n",
       " 56: 9,\n",
       " 165: 10,\n",
       " 130: 20,\n",
       " 83: 6,\n",
       " 158: 5,\n",
       " 0: 3,\n",
       " 93: 8,\n",
       " 46: 3,\n",
       " 119: 6,\n",
       " 45: 7,\n",
       " 78: 3,\n",
       " 84: 5,\n",
       " 135: 5,\n",
       " 92: 3,\n",
       " 160: 4,\n",
       " 37: 6,\n",
       " 31: 8,\n",
       " 43: 6,\n",
       " 33: 2,\n",
       " 175: 10,\n",
       " 89: 1,\n",
       " 27: 1,\n",
       " 199: 5,\n",
       " 81: 7,\n",
       " 97: 9,\n",
       " 191: 2,\n",
       " 171: 8,\n",
       " 169: 2,\n",
       " 60: 9,\n",
       " 76: 4,\n",
       " 140: 3,\n",
       " 172: 7,\n",
       " 73: 4,\n",
       " 112: 3,\n",
       " 44: 3,\n",
       " 98: 14,\n",
       " 162: 7,\n",
       " 193: 6,\n",
       " 10: 1,\n",
       " 59: 9,\n",
       " 179: 4,\n",
       " 88: 1,\n",
       " 15: 13,\n",
       " 25: 1,\n",
       " 74: 4,\n",
       " 156: 3,\n",
       " 26: 139,\n",
       " 136: 9,\n",
       " 125: 8,\n",
       " 141: 5,\n",
       " 61: 5,\n",
       " 143: 2,\n",
       " 18: 4,\n",
       " 70: 7,\n",
       " 107: 3,\n",
       " 24: 8,\n",
       " 11: 4,\n",
       " 85: 1,\n",
       " 195: 2,\n",
       " 115: 4,\n",
       " 50: 5,\n",
       " 95: 3,\n",
       " 145: 2,\n",
       " 197: 1,\n",
       " 38: 1,\n",
       " 173: 5,\n",
       " 23: 3,\n",
       " 177: 5,\n",
       " 196: 1,\n",
       " 152: 2,\n",
       " 6: 2,\n",
       " 102: 2,\n",
       " 64: 2,\n",
       " 17: 1,\n",
       " 184: 3,\n",
       " 132: 6,\n",
       " 185: 5,\n",
       " 188: 8,\n",
       " 154: 1,\n",
       " 63: 3,\n",
       " 19: 3,\n",
       " 82: 2,\n",
       " 65: 4,\n",
       " 35: 3,\n",
       " 111: 2,\n",
       " 13: 3,\n",
       " 144: 4,\n",
       " 149: 4,\n",
       " 104: 4,\n",
       " 189: 5,\n",
       " 122: 1,\n",
       " 54: 5,\n",
       " 47: 2,\n",
       " 146: 3,\n",
       " 30: 6,\n",
       " 127: 2,\n",
       " 22: 6,\n",
       " 198: 5,\n",
       " 148: 3,\n",
       " 183: 1,\n",
       " 174: 1,\n",
       " 129: 1,\n",
       " 40: 2,\n",
       " 21: 1,\n",
       " 58: 1,\n",
       " 118: 2,\n",
       " 126: 1,\n",
       " 51: 1,\n",
       " 80: 1,\n",
       " 147: 1,\n",
       " 157: 1}"
      ]
     },
     "execution_count": 13,
     "metadata": {},
     "output_type": "execute_result"
    }
   ],
   "source": [
    "for j in link_list:\n",
    "    if user_cluster[j] == user_cluster[0]:\n",
    "        w = 10\n",
    "    else:\n",
    "        w = 1\n",
    "    for i in train[train['user_id'] == j]['item_id']:\n",
    "        if item_cluster[i] in item_dict:            \n",
    "            item_dict[item_cluster[i]] += w\n",
    "        else:\n",
    "            item_dict[item_cluster[i]] = w  \n",
    "item_dict"
   ]
  },
  {
   "cell_type": "markdown",
   "metadata": {},
   "source": [
    "# 6. Test data"
   ]
  },
  {
   "cell_type": "code",
   "execution_count": 14,
   "metadata": {},
   "outputs": [],
   "source": [
    "recommender_dict = dict()\n",
    "for i in test[test['user_id'] == 0]['item_id']:\n",
    "    if item_cluster[i] in item_dict:\n",
    "        recommender_dict[i] = item_dict[item_cluster[i]]\n",
    "# recommender_dict"
   ]
  },
  {
   "cell_type": "markdown",
   "metadata": {},
   "source": [
    "# 7. Sort data"
   ]
  },
  {
   "cell_type": "code",
   "execution_count": 15,
   "metadata": {},
   "outputs": [],
   "source": [
    "sort_orders = sorted(recommender_dict.items(), key=lambda x: x[1], reverse=True)\n",
    "# sort_orders"
   ]
  },
  {
   "cell_type": "code",
   "execution_count": 16,
   "metadata": {},
   "outputs": [],
   "source": [
    "user_id_list = list()\n",
    "item_id_list = list()"
   ]
  },
  {
   "cell_type": "code",
   "execution_count": 17,
   "metadata": {},
   "outputs": [],
   "source": [
    "for i in sort_orders[:10]:\n",
    "    user_id_list.append(0)\n",
    "    item_id_list.append(i[0])"
   ]
  },
  {
   "cell_type": "code",
   "execution_count": 18,
   "metadata": {},
   "outputs": [],
   "source": [
    "# user_id_list"
   ]
  },
  {
   "cell_type": "code",
   "execution_count": 19,
   "metadata": {},
   "outputs": [],
   "source": [
    "# item_id_list"
   ]
  },
  {
   "cell_type": "code",
   "execution_count": 20,
   "metadata": {},
   "outputs": [],
   "source": [
    "def validing(user_id):\n",
    "    \n",
    "    item_dict = dict()\n",
    "    for i in train[train['user_id'] == user_id]['item_id']:\n",
    "        if item_cluster[i] in item_dict:            \n",
    "            item_dict[item_cluster[i]] += 100\n",
    "        else:\n",
    "            item_dict[item_cluster[i]] = 100\n",
    "            \n",
    "    link_list = list()\n",
    "    for i in link[link['src'] == user_id]['des']:\n",
    "        link_list.append(i)\n",
    "        \n",
    "    for j in link_list:\n",
    "        if user_cluster[j] == user_cluster[user_id]:\n",
    "            w = 10\n",
    "        else:\n",
    "            w = 1\n",
    "        for i in train[train['user_id'] == j]['item_id']:\n",
    "            if item_cluster[i] in item_dict:            \n",
    "                item_dict[item_cluster[i]] += w\n",
    "            else:\n",
    "                item_dict[item_cluster[i]] = w\n",
    "\n",
    "    recommender_dict = dict()\n",
    "    for i in valid[valid['user_id'] == user_id]['item_id']:\n",
    "        if item_cluster[i] in item_dict:\n",
    "            recommender_dict[i] = item_dict[item_cluster[i]]\n",
    "    \n",
    "    sort_orders = sorted(recommender_dict.items(), key=lambda x: x[1], reverse=True)\n",
    "    \n",
    "    i = 0\n",
    "    while len(sort_orders) < 10:\n",
    "        sort_orders.append([valid[valid['user_id'] == user_id]['item_id'].tolist()[i]])\n",
    "        i += 1\n",
    "    \n",
    "    tmp = list()\n",
    "    for i in sort_orders[:10]:\n",
    "        tmp.append(i[0])\n",
    "        \n",
    "    correct = int(valid[(valid['user_id'] == user_id) & (valid['rating'] == 1)]['item_id'])    \n",
    "    if correct in tmp:        \n",
    "        return 1\n",
    "    else:\n",
    "        return 0"
   ]
  },
  {
   "cell_type": "code",
   "execution_count": 21,
   "metadata": {},
   "outputs": [],
   "source": [
    "from sklearn.cluster import KMeans\n",
    "kmeans = KMeans(n_clusters=2000, random_state=0).fit(item)\n",
    "item_cluster = kmeans.labels_"
   ]
  },
  {
   "cell_type": "code",
   "execution_count": 22,
   "metadata": {},
   "outputs": [],
   "source": [
    "from sklearn.cluster import KMeans\n",
    "kmeans = KMeans(n_clusters=1, random_state=0).fit(user)\n",
    "user_cluster = kmeans.labels_"
   ]
  },
  {
   "cell_type": "code",
   "execution_count": 23,
   "metadata": {},
   "outputs": [],
   "source": [
    "user_id_list = list()\n",
    "item_id_list = list()\n",
    "score = 0"
   ]
  },
  {
   "cell_type": "code",
   "execution_count": 24,
   "metadata": {},
   "outputs": [],
   "source": [
    "for i in range(2239):\n",
    "    score += validing(i)"
   ]
  },
  {
   "cell_type": "code",
   "execution_count": 25,
   "metadata": {},
   "outputs": [
    {
     "name": "stdout",
     "output_type": "stream",
     "text": [
      "1755\n",
      "0.7315548145060442\n"
     ]
    }
   ],
   "source": [
    "accuracy = score / 2399\n",
    "print(score)\n",
    "print(accuracy)"
   ]
  },
  {
   "cell_type": "markdown",
   "metadata": {},
   "source": [
    "# Predict Data"
   ]
  },
  {
   "cell_type": "code",
   "execution_count": 26,
   "metadata": {},
   "outputs": [],
   "source": [
    "def predicting(user_id):\n",
    "    \n",
    "    item_dict = dict()\n",
    "    for i in train[train['user_id'] == user_id]['item_id']:\n",
    "        if item_cluster[i] in item_dict:            \n",
    "            item_dict[item_cluster[i]] += 100\n",
    "        else:\n",
    "            item_dict[item_cluster[i]] = 100\n",
    "            \n",
    "    link_list = list()\n",
    "    for i in link[link['src'] == user_id]['des']:\n",
    "        link_list.append(i)\n",
    "        \n",
    "    for j in link_list:\n",
    "        if user_cluster[j] == user_cluster[user_id]:\n",
    "            w = 10\n",
    "        else:\n",
    "            w = 1\n",
    "        for i in train[train['user_id'] == j]['item_id']:\n",
    "            if item_cluster[i] in item_dict:            \n",
    "                item_dict[item_cluster[i]] += w\n",
    "            else:\n",
    "                item_dict[item_cluster[i]] = w\n",
    "\n",
    "    recommender_dict = dict()\n",
    "    for i in test[test['user_id'] == user_id]['item_id']:\n",
    "        if item_cluster[i] in item_dict:\n",
    "            recommender_dict[i] = item_dict[item_cluster[i]]\n",
    "    \n",
    "    sort_orders = sorted(recommender_dict.items(), key=lambda x: x[1], reverse=True)\n",
    "    \n",
    "    i = 0\n",
    "    while len(sort_orders) < 10:\n",
    "        sort_orders.append([test[test['user_id'] == user_id]['item_id'].tolist()[i]])\n",
    "        i += 1\n",
    "        \n",
    "    for i in sort_orders[:10]:\n",
    "        user_id_list.append(user_id)\n",
    "        item_id_list.append(i[0])"
   ]
  },
  {
   "cell_type": "code",
   "execution_count": 27,
   "metadata": {},
   "outputs": [],
   "source": [
    "from sklearn.cluster import KMeans\n",
    "kmeans = KMeans(n_clusters=2000, random_state=0).fit(item)\n",
    "item_cluster = kmeans.labels_"
   ]
  },
  {
   "cell_type": "code",
   "execution_count": 28,
   "metadata": {},
   "outputs": [],
   "source": [
    "from sklearn.cluster import KMeans\n",
    "kmeans = KMeans(n_clusters=1, random_state=0).fit(user)\n",
    "user_cluster = kmeans.labels_"
   ]
  },
  {
   "cell_type": "code",
   "execution_count": 29,
   "metadata": {},
   "outputs": [],
   "source": [
    "user_id_list = list()\n",
    "item_id_list = list()"
   ]
  },
  {
   "cell_type": "code",
   "execution_count": null,
   "metadata": {},
   "outputs": [],
   "source": [
    "for i in range(2239):\n",
    "    predicting(i)"
   ]
  },
  {
   "cell_type": "code",
   "execution_count": null,
   "metadata": {},
   "outputs": [],
   "source": [
    "df = pd.DataFrame(list(zip(user_id_list, item_id_list)), columns = ['user_id', 'item_id']) "
   ]
  },
  {
   "cell_type": "code",
   "execution_count": null,
   "metadata": {},
   "outputs": [],
   "source": [
    "df.head(50)"
   ]
  },
  {
   "cell_type": "code",
   "execution_count": null,
   "metadata": {},
   "outputs": [],
   "source": [
    "df.to_csv('output.csv', index=False) # cluster 100 is better than 200"
   ]
  },
  {
   "cell_type": "code",
   "execution_count": null,
   "metadata": {},
   "outputs": [],
   "source": []
  }
 ],
 "metadata": {
  "kernelspec": {
   "display_name": "Python 3",
   "language": "python",
   "name": "python3"
  },
  "language_info": {
   "codemirror_mode": {
    "name": "ipython",
    "version": 3
   },
   "file_extension": ".py",
   "mimetype": "text/x-python",
   "name": "python",
   "nbconvert_exporter": "python",
   "pygments_lexer": "ipython3",
   "version": "3.6.9"
  }
 },
 "nbformat": 4,
 "nbformat_minor": 2
}
